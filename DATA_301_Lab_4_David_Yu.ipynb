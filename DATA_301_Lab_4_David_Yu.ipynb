{
  "nbformat": 4,
  "nbformat_minor": 0,
  "metadata": {
    "kernelspec": {
      "display_name": "Python 3",
      "language": "python",
      "name": "python3"
    },
    "language_info": {
      "codemirror_mode": {
        "name": "ipython",
        "version": 3
      },
      "file_extension": ".py",
      "mimetype": "text/x-python",
      "name": "python",
      "nbconvert_exporter": "python",
      "pygments_lexer": "ipython3",
      "version": "3.7.1"
    },
    "colab": {
      "provenance": [],
      "include_colab_link": true
    }
  },
  "cells": [
    {
      "cell_type": "markdown",
      "metadata": {
        "id": "view-in-github",
        "colab_type": "text"
      },
      "source": [
        "<a href=\"https://colab.research.google.com/github/Cal-Poly-Data-301/lab-4-davidayu/blob/main/DATA_301_Lab_4_David_Yu.ipynb\" target=\"_parent\"><img src=\"https://colab.research.google.com/assets/colab-badge.svg\" alt=\"Open In Colab\"/></a>"
      ]
    },
    {
      "cell_type": "markdown",
      "metadata": {
        "id": "GWSNdW_jY8DY"
      },
      "source": [
        "# Machine Learning for Beer\n",
        "\n",
        "Your goal is to train a model to predict the bitterness of a beer (in International Bittering Units, or IBU), given features about the beer. You can acquire the data in two places:\n",
        "\n",
        "- on [Kaggle](https://www.kaggle.com/c/beer2020/data) \n",
        "- on [Github](https://github.com/dlsun/pods/tree/master/data/beer) (https://dlsun.github.io/pods/data/beer/beer_train.csv and https://dlsun.github.io/pods/data/beer/beer_test.csv )\n",
        "\n",
        "A description of the variables is available [here](https://www.kaggle.com/c/beer2020/data).\n",
        "\n",
        "\n",
        "We would like to predict **ibu** using a $20$-nearest neighbors model.\n",
        "\n",
        "There are three features that have to do with the physical properties of the beer:  **abv**, **srm**, **original gravity**\n",
        "\n",
        "There are two \"cultural\" features that have to do with how/when the beer is traditionally served: **glass**, **available**\n",
        "\n",
        "Consider predicting **ibu** from \n",
        "(a) Only the physical features\n",
        "(b) Only the cultural features\n",
        "(c) All five features"
      ]
    },
    {
      "cell_type": "code",
      "source": [
        "import pandas as pd\n",
        "import numpy as np\n",
        "\n",
        "data_dir = \"https://dlsun.github.io/pods/data/\"\n",
        "\n",
        "df_beer = pd.read_csv(data_dir + \"beer/beer_train.csv\", index_col=\"id\")\n",
        "df_beer[\"srm\"] = df_beer[\"srm\"].replace(\"Over 40\", \"50\")\n",
        "df_beer[[\"abv\", \"ibu\", \"originalGravity\", \"srm\"]] = df_beer[[\"abv\", \"ibu\", \"originalGravity\", \"srm\"]].astype(float)\n",
        "\n",
        "df_beer\n",
        "\n"
      ],
      "metadata": {
        "colab": {
          "base_uri": "https://localhost:8080/",
          "height": 455
        },
        "id": "tyb8FLPHheTi",
        "outputId": "a207f7e4-117e-4706-c8fb-115b8a2238e9"
      },
      "execution_count": null,
      "outputs": [
        {
          "output_type": "execute_result",
          "data": {
            "text/plain": [
              "       abv                                        available  \\\n",
              "id                                                            \n",
              "0      8.2  Available at the same time of year, every year.   \n",
              "1      5.7  Available at the same time of year, every year.   \n",
              "2      5.8  Available at the same time of year, every year.   \n",
              "3      5.5           Available year round as a staple beer.   \n",
              "4      4.8           Available year round as a staple beer.   \n",
              "...    ...                                              ...   \n",
              "5995   5.5           Available year round as a staple beer.   \n",
              "5996  11.0  Available at the same time of year, every year.   \n",
              "5997   5.2           Available year round as a staple beer.   \n",
              "5998   6.2                            Limited availability.   \n",
              "5999   5.1           Available year round as a staple beer.   \n",
              "\n",
              "                                            description glass   ibu isOrganic  \\\n",
              "id                                                                              \n",
              "0     A Belgian-Abbey-Style Tripel that is big in al...   NaN  31.0         N   \n",
              "1     Covert Hops is a crafty ale. Its stealthy dark...  Pint  45.0         N   \n",
              "2     This is a traditional German-style Marzen char...   Mug  25.0         N   \n",
              "3     A West Coast-Style Pale Ale balancing plenty o...  Pint  55.0         N   \n",
              "4     This Bombshell has a tantalizing crisp and cle...  Pint  11.4         N   \n",
              "...                                                 ...   ...   ...       ...   \n",
              "5995  Taking its cues from “Three Threads”, a barten...  Pint  33.0         N   \n",
              "5996  Our barley wine is what would be considered an...   NaN  30.0         N   \n",
              "5997  Our version of a west coast pale ale pushes th...  Pint  45.0         N   \n",
              "5998  Aquarius White IPA combines the phenolic and e...   NaN  50.0         N   \n",
              "5999                                                NaN   NaN  23.0         N   \n",
              "\n",
              "                        name  originalGravity   srm  \n",
              "id                                                   \n",
              "0            LoonyToonTripel            1.070   8.0  \n",
              "1                Covert Hops            1.056  35.0  \n",
              "2                Oktoberfest            1.048  10.0  \n",
              "3                   Pale Ale            1.044   5.0  \n",
              "4     Head Turner Blonde Ale            1.045   3.0  \n",
              "...                      ...              ...   ...  \n",
              "5995        Mayflower Porter            1.040  50.0  \n",
              "5996             Barbieswine            1.085  20.0  \n",
              "5997         Canuck Pale Ale            1.044   8.0  \n",
              "5998                Aquarius            1.044   2.0  \n",
              "5999               Amber Ale            1.048  15.0  \n",
              "\n",
              "[6000 rows x 9 columns]"
            ],
            "text/html": [
              "\n",
              "  <div id=\"df-e96855ea-7a0d-4ccd-9f9b-61d2e1b41c70\">\n",
              "    <div class=\"colab-df-container\">\n",
              "      <div>\n",
              "<style scoped>\n",
              "    .dataframe tbody tr th:only-of-type {\n",
              "        vertical-align: middle;\n",
              "    }\n",
              "\n",
              "    .dataframe tbody tr th {\n",
              "        vertical-align: top;\n",
              "    }\n",
              "\n",
              "    .dataframe thead th {\n",
              "        text-align: right;\n",
              "    }\n",
              "</style>\n",
              "<table border=\"1\" class=\"dataframe\">\n",
              "  <thead>\n",
              "    <tr style=\"text-align: right;\">\n",
              "      <th></th>\n",
              "      <th>abv</th>\n",
              "      <th>available</th>\n",
              "      <th>description</th>\n",
              "      <th>glass</th>\n",
              "      <th>ibu</th>\n",
              "      <th>isOrganic</th>\n",
              "      <th>name</th>\n",
              "      <th>originalGravity</th>\n",
              "      <th>srm</th>\n",
              "    </tr>\n",
              "    <tr>\n",
              "      <th>id</th>\n",
              "      <th></th>\n",
              "      <th></th>\n",
              "      <th></th>\n",
              "      <th></th>\n",
              "      <th></th>\n",
              "      <th></th>\n",
              "      <th></th>\n",
              "      <th></th>\n",
              "      <th></th>\n",
              "    </tr>\n",
              "  </thead>\n",
              "  <tbody>\n",
              "    <tr>\n",
              "      <th>0</th>\n",
              "      <td>8.2</td>\n",
              "      <td>Available at the same time of year, every year.</td>\n",
              "      <td>A Belgian-Abbey-Style Tripel that is big in al...</td>\n",
              "      <td>NaN</td>\n",
              "      <td>31.0</td>\n",
              "      <td>N</td>\n",
              "      <td>LoonyToonTripel</td>\n",
              "      <td>1.070</td>\n",
              "      <td>8.0</td>\n",
              "    </tr>\n",
              "    <tr>\n",
              "      <th>1</th>\n",
              "      <td>5.7</td>\n",
              "      <td>Available at the same time of year, every year.</td>\n",
              "      <td>Covert Hops is a crafty ale. Its stealthy dark...</td>\n",
              "      <td>Pint</td>\n",
              "      <td>45.0</td>\n",
              "      <td>N</td>\n",
              "      <td>Covert Hops</td>\n",
              "      <td>1.056</td>\n",
              "      <td>35.0</td>\n",
              "    </tr>\n",
              "    <tr>\n",
              "      <th>2</th>\n",
              "      <td>5.8</td>\n",
              "      <td>Available at the same time of year, every year.</td>\n",
              "      <td>This is a traditional German-style Marzen char...</td>\n",
              "      <td>Mug</td>\n",
              "      <td>25.0</td>\n",
              "      <td>N</td>\n",
              "      <td>Oktoberfest</td>\n",
              "      <td>1.048</td>\n",
              "      <td>10.0</td>\n",
              "    </tr>\n",
              "    <tr>\n",
              "      <th>3</th>\n",
              "      <td>5.5</td>\n",
              "      <td>Available year round as a staple beer.</td>\n",
              "      <td>A West Coast-Style Pale Ale balancing plenty o...</td>\n",
              "      <td>Pint</td>\n",
              "      <td>55.0</td>\n",
              "      <td>N</td>\n",
              "      <td>Pale Ale</td>\n",
              "      <td>1.044</td>\n",
              "      <td>5.0</td>\n",
              "    </tr>\n",
              "    <tr>\n",
              "      <th>4</th>\n",
              "      <td>4.8</td>\n",
              "      <td>Available year round as a staple beer.</td>\n",
              "      <td>This Bombshell has a tantalizing crisp and cle...</td>\n",
              "      <td>Pint</td>\n",
              "      <td>11.4</td>\n",
              "      <td>N</td>\n",
              "      <td>Head Turner Blonde Ale</td>\n",
              "      <td>1.045</td>\n",
              "      <td>3.0</td>\n",
              "    </tr>\n",
              "    <tr>\n",
              "      <th>...</th>\n",
              "      <td>...</td>\n",
              "      <td>...</td>\n",
              "      <td>...</td>\n",
              "      <td>...</td>\n",
              "      <td>...</td>\n",
              "      <td>...</td>\n",
              "      <td>...</td>\n",
              "      <td>...</td>\n",
              "      <td>...</td>\n",
              "    </tr>\n",
              "    <tr>\n",
              "      <th>5995</th>\n",
              "      <td>5.5</td>\n",
              "      <td>Available year round as a staple beer.</td>\n",
              "      <td>Taking its cues from “Three Threads”, a barten...</td>\n",
              "      <td>Pint</td>\n",
              "      <td>33.0</td>\n",
              "      <td>N</td>\n",
              "      <td>Mayflower Porter</td>\n",
              "      <td>1.040</td>\n",
              "      <td>50.0</td>\n",
              "    </tr>\n",
              "    <tr>\n",
              "      <th>5996</th>\n",
              "      <td>11.0</td>\n",
              "      <td>Available at the same time of year, every year.</td>\n",
              "      <td>Our barley wine is what would be considered an...</td>\n",
              "      <td>NaN</td>\n",
              "      <td>30.0</td>\n",
              "      <td>N</td>\n",
              "      <td>Barbieswine</td>\n",
              "      <td>1.085</td>\n",
              "      <td>20.0</td>\n",
              "    </tr>\n",
              "    <tr>\n",
              "      <th>5997</th>\n",
              "      <td>5.2</td>\n",
              "      <td>Available year round as a staple beer.</td>\n",
              "      <td>Our version of a west coast pale ale pushes th...</td>\n",
              "      <td>Pint</td>\n",
              "      <td>45.0</td>\n",
              "      <td>N</td>\n",
              "      <td>Canuck Pale Ale</td>\n",
              "      <td>1.044</td>\n",
              "      <td>8.0</td>\n",
              "    </tr>\n",
              "    <tr>\n",
              "      <th>5998</th>\n",
              "      <td>6.2</td>\n",
              "      <td>Limited availability.</td>\n",
              "      <td>Aquarius White IPA combines the phenolic and e...</td>\n",
              "      <td>NaN</td>\n",
              "      <td>50.0</td>\n",
              "      <td>N</td>\n",
              "      <td>Aquarius</td>\n",
              "      <td>1.044</td>\n",
              "      <td>2.0</td>\n",
              "    </tr>\n",
              "    <tr>\n",
              "      <th>5999</th>\n",
              "      <td>5.1</td>\n",
              "      <td>Available year round as a staple beer.</td>\n",
              "      <td>NaN</td>\n",
              "      <td>NaN</td>\n",
              "      <td>23.0</td>\n",
              "      <td>N</td>\n",
              "      <td>Amber Ale</td>\n",
              "      <td>1.048</td>\n",
              "      <td>15.0</td>\n",
              "    </tr>\n",
              "  </tbody>\n",
              "</table>\n",
              "<p>6000 rows × 9 columns</p>\n",
              "</div>\n",
              "      <button class=\"colab-df-convert\" onclick=\"convertToInteractive('df-e96855ea-7a0d-4ccd-9f9b-61d2e1b41c70')\"\n",
              "              title=\"Convert this dataframe to an interactive table.\"\n",
              "              style=\"display:none;\">\n",
              "        \n",
              "  <svg xmlns=\"http://www.w3.org/2000/svg\" height=\"24px\"viewBox=\"0 0 24 24\"\n",
              "       width=\"24px\">\n",
              "    <path d=\"M0 0h24v24H0V0z\" fill=\"none\"/>\n",
              "    <path d=\"M18.56 5.44l.94 2.06.94-2.06 2.06-.94-2.06-.94-.94-2.06-.94 2.06-2.06.94zm-11 1L8.5 8.5l.94-2.06 2.06-.94-2.06-.94L8.5 2.5l-.94 2.06-2.06.94zm10 10l.94 2.06.94-2.06 2.06-.94-2.06-.94-.94-2.06-.94 2.06-2.06.94z\"/><path d=\"M17.41 7.96l-1.37-1.37c-.4-.4-.92-.59-1.43-.59-.52 0-1.04.2-1.43.59L10.3 9.45l-7.72 7.72c-.78.78-.78 2.05 0 2.83L4 21.41c.39.39.9.59 1.41.59.51 0 1.02-.2 1.41-.59l7.78-7.78 2.81-2.81c.8-.78.8-2.07 0-2.86zM5.41 20L4 18.59l7.72-7.72 1.47 1.35L5.41 20z\"/>\n",
              "  </svg>\n",
              "      </button>\n",
              "      \n",
              "  <style>\n",
              "    .colab-df-container {\n",
              "      display:flex;\n",
              "      flex-wrap:wrap;\n",
              "      gap: 12px;\n",
              "    }\n",
              "\n",
              "    .colab-df-convert {\n",
              "      background-color: #E8F0FE;\n",
              "      border: none;\n",
              "      border-radius: 50%;\n",
              "      cursor: pointer;\n",
              "      display: none;\n",
              "      fill: #1967D2;\n",
              "      height: 32px;\n",
              "      padding: 0 0 0 0;\n",
              "      width: 32px;\n",
              "    }\n",
              "\n",
              "    .colab-df-convert:hover {\n",
              "      background-color: #E2EBFA;\n",
              "      box-shadow: 0px 1px 2px rgba(60, 64, 67, 0.3), 0px 1px 3px 1px rgba(60, 64, 67, 0.15);\n",
              "      fill: #174EA6;\n",
              "    }\n",
              "\n",
              "    [theme=dark] .colab-df-convert {\n",
              "      background-color: #3B4455;\n",
              "      fill: #D2E3FC;\n",
              "    }\n",
              "\n",
              "    [theme=dark] .colab-df-convert:hover {\n",
              "      background-color: #434B5C;\n",
              "      box-shadow: 0px 1px 3px 1px rgba(0, 0, 0, 0.15);\n",
              "      filter: drop-shadow(0px 1px 2px rgba(0, 0, 0, 0.3));\n",
              "      fill: #FFFFFF;\n",
              "    }\n",
              "  </style>\n",
              "\n",
              "      <script>\n",
              "        const buttonEl =\n",
              "          document.querySelector('#df-e96855ea-7a0d-4ccd-9f9b-61d2e1b41c70 button.colab-df-convert');\n",
              "        buttonEl.style.display =\n",
              "          google.colab.kernel.accessAllowed ? 'block' : 'none';\n",
              "\n",
              "        async function convertToInteractive(key) {\n",
              "          const element = document.querySelector('#df-e96855ea-7a0d-4ccd-9f9b-61d2e1b41c70');\n",
              "          const dataTable =\n",
              "            await google.colab.kernel.invokeFunction('convertToInteractive',\n",
              "                                                     [key], {});\n",
              "          if (!dataTable) return;\n",
              "\n",
              "          const docLinkHtml = 'Like what you see? Visit the ' +\n",
              "            '<a target=\"_blank\" href=https://colab.research.google.com/notebooks/data_table.ipynb>data table notebook</a>'\n",
              "            + ' to learn more about interactive tables.';\n",
              "          element.innerHTML = '';\n",
              "          dataTable['output_type'] = 'display_data';\n",
              "          await google.colab.output.renderOutput(dataTable, element);\n",
              "          const docLink = document.createElement('div');\n",
              "          docLink.innerHTML = docLinkHtml;\n",
              "          element.appendChild(docLink);\n",
              "        }\n",
              "      </script>\n",
              "    </div>\n",
              "  </div>\n",
              "  "
            ]
          },
          "metadata": {},
          "execution_count": 1
        }
      ]
    },
    {
      "cell_type": "markdown",
      "metadata": {
        "id": "aEBlEDxWY8Dl"
      },
      "source": [
        "## Question 1\n",
        "Let's see how the distance metric, the scaling method, and the model influence prediction accuracy. \n",
        "\n",
        "Consider only the *physical* features. Train a **20**-nearest-neighbor model to predict **ibu**. Try fitting models with different distance metrics and scaling methods. \n",
        "\n",
        "Which distance metric and/or scaling method gives the best prediction accuracy? Why do you think that might be?"
      ]
    },
    {
      "cell_type": "code",
      "source": [
        "from sklearn.preprocessing import StandardScaler\n",
        "from sklearn.neighbors import KNeighborsRegressor\n",
        "\n",
        "beer_train = df_beer.loc[:4001].copy()\n",
        "beer_test = df_beer.loc[4001:].copy()\n",
        "\n",
        "X_train = beer_train[[\"abv\", \"srm\", \"originalGravity\"]]\n",
        "y_train = beer_train[\"ibu\"]\n",
        "X_test = beer_test[[\"abv\", \"srm\", \"originalGravity\"]]"
      ],
      "metadata": {
        "id": "Lup5snmFiYP2"
      },
      "execution_count": null,
      "outputs": []
    },
    {
      "cell_type": "code",
      "source": [
        "from sklearn.pipeline import make_pipeline\n",
        "\n",
        "\n",
        "pipeline = make_pipeline(\n",
        "          StandardScaler(),\n",
        "          KNeighborsRegressor(n_neighbors=20)\n",
        ")\n",
        "\n",
        "pipeline.fit(X=X_train, y=y_train)\n",
        "predicted_values = pipeline.predict(X_test)\n",
        "predicted_values"
      ],
      "metadata": {
        "colab": {
          "base_uri": "https://localhost:8080/"
        },
        "id": "m6rUAeuTsNsA",
        "outputId": "240371ce-5b26-4900-e7b1-0496fe22e58e"
      },
      "execution_count": null,
      "outputs": [
        {
          "output_type": "execute_result",
          "data": {
            "text/plain": [
              "array([32.45, 45.85, 69.85, ..., 33.22, 29.09, 25.84])"
            ]
          },
          "metadata": {},
          "execution_count": 3
        }
      ]
    },
    {
      "cell_type": "code",
      "source": [
        "from sklearn.metrics import mean_absolute_error\n",
        "\n",
        "actual_values = np.array(beer_test[\"ibu\"])\n",
        "\n",
        "mean_absolute_error(actual_values, predicted_values)"
      ],
      "metadata": {
        "colab": {
          "base_uri": "https://localhost:8080/"
        },
        "id": "19ukYuiOtXcp",
        "outputId": "bb072a1b-f304-4ea9-9a49-2fc09afc276c"
      },
      "execution_count": null,
      "outputs": [
        {
          "output_type": "execute_result",
          "data": {
            "text/plain": [
              "14.320362506253124"
            ]
          },
          "metadata": {},
          "execution_count": 4
        }
      ]
    },
    {
      "cell_type": "code",
      "source": [
        "metrics = [\"euclidean\", \"manhattan\", \"chebyshev\", \"minkowski\"]\n",
        "\n",
        "mae_results = []\n",
        "for metric in metrics:\n",
        "    pipeline = make_pipeline(StandardScaler(), KNeighborsRegressor(n_neighbors=20, metric=metric))\n",
        "    pipeline.fit(X=X_train, y=y_train)\n",
        "    predicted_values = pipeline.predict(X_test)\n",
        "    mae = mean_absolute_error(actual_values, predicted_values)\n",
        "    mae_results.append(mae)\n",
        "    \n",
        "best_metric_index = np.argmin(mae_results)\n",
        "best_metric = metrics[best_metric_index]\n",
        "best_mae = mae_results[best_metric_index]\n",
        "\n",
        "print(\"Best metric:\", best_metric)\n",
        "print(\"Lowest MAE:\", best_mae)\n"
      ],
      "metadata": {
        "colab": {
          "base_uri": "https://localhost:8080/"
        },
        "id": "PPElG5dZukuD",
        "outputId": "67562c61-ee8b-4501-94e2-cea2c640014e"
      },
      "execution_count": null,
      "outputs": [
        {
          "output_type": "stream",
          "name": "stdout",
          "text": [
            "Best metric: manhattan\n",
            "Lowest MAE: 14.088451900950474\n"
          ]
        }
      ]
    },
    {
      "cell_type": "code",
      "source": [
        "from sklearn.preprocessing import StandardScaler, MinMaxScaler, Normalizer\n",
        "\n",
        "metrics = [\"euclidean\", \"manhattan\", \"chebyshev\", \"minkowski\"]\n",
        "scalers = [StandardScaler, MinMaxScaler, Normalizer]\n",
        "\n",
        "\n",
        "for metric in metrics:\n",
        "  for scaler in scalers:\n",
        "    pipeline = make_pipeline(scaler(), KNeighborsRegressor(n_neighbors=20, metric=metric))\n",
        "    pipeline.fit(X=X_train, y=y_train)\n",
        "    predicted_values = pipeline.predict(X_test)\n",
        "    mae = mean_absolute_error(actual_values, predicted_values)\n",
        "    print(f\"{metric}, {scaler}, {mae}\")\n"
      ],
      "metadata": {
        "colab": {
          "base_uri": "https://localhost:8080/"
        },
        "id": "Kjl01xuCoO80",
        "outputId": "de48cc0a-167c-424a-8ca2-6ceffc388127"
      },
      "execution_count": null,
      "outputs": [
        {
          "output_type": "stream",
          "name": "stdout",
          "text": [
            "euclidean, <class 'sklearn.preprocessing._data.StandardScaler'>, 14.320362506253124\n",
            "euclidean, <class 'sklearn.preprocessing._data.MinMaxScaler'>, 15.253982216108053\n",
            "euclidean, <class 'sklearn.preprocessing._data.Normalizer'>, 16.09846475737869\n",
            "manhattan, <class 'sklearn.preprocessing._data.StandardScaler'>, 14.088451900950474\n",
            "manhattan, <class 'sklearn.preprocessing._data.MinMaxScaler'>, 15.109741970985493\n",
            "manhattan, <class 'sklearn.preprocessing._data.Normalizer'>, 16.27361695847924\n",
            "chebyshev, <class 'sklearn.preprocessing._data.StandardScaler'>, 14.537417033516757\n",
            "chebyshev, <class 'sklearn.preprocessing._data.MinMaxScaler'>, 15.45182451225613\n",
            "chebyshev, <class 'sklearn.preprocessing._data.Normalizer'>, 16.055746248124063\n",
            "minkowski, <class 'sklearn.preprocessing._data.StandardScaler'>, 14.320362506253124\n",
            "minkowski, <class 'sklearn.preprocessing._data.MinMaxScaler'>, 15.253982216108053\n",
            "minkowski, <class 'sklearn.preprocessing._data.Normalizer'>, 16.09846475737869\n"
          ]
        }
      ]
    },
    {
      "cell_type": "markdown",
      "source": [
        "Manhattan distance with standard scaler gives the best mae. It's probably the best in this use case because the different dimensions (\"abv\", \"srm\", \"originalGravity\") are not comparable and manhattan works well with data like that. We also cleaned the data and changed over 40 to 50. For all of these we did a 90/10 train validation split. "
      ],
      "metadata": {
        "id": "aCp5GB00gQ2S"
      }
    },
    {
      "cell_type": "markdown",
      "metadata": {
        "id": "8O3DcQAYGYtq"
      },
      "source": [
        "## Question 2\n",
        "\n",
        "Repeat Question 1, this time using the *cultural* features."
      ]
    },
    {
      "cell_type": "code",
      "source": [
        "from sklearn.preprocessing import OneHotEncoder\n",
        "X_train = beer_train[[\"available\", \"glass\"]]\n",
        "y_train = beer_train[\"ibu\"]\n",
        "X_test = beer_test[[\"available\", \"glass\"]]\n",
        "\n",
        "encoder = OneHotEncoder()\n",
        "X_train = encoder.fit_transform(X_train)\n",
        "X_test = encoder.transform(X_test)\n",
        "\n",
        "pipeline = make_pipeline(\n",
        "          StandardScaler(with_mean=False),\n",
        "          KNeighborsRegressor(n_neighbors=20)\n",
        ")\n",
        "\n",
        "pipeline.fit(X=X_train, y=y_train)\n",
        "predicted_values = pipeline.predict(X_test)\n",
        "\n",
        "predicted_values"
      ],
      "metadata": {
        "colab": {
          "base_uri": "https://localhost:8080/"
        },
        "id": "eYDasUZouoI2",
        "outputId": "38cfc211-3951-49db-e058-e37a3868d0c8"
      },
      "execution_count": null,
      "outputs": [
        {
          "output_type": "execute_result",
          "data": {
            "text/plain": [
              "array([50.505, 52.165, 50.58 , ..., 49.25 , 44.6  , 45.285])"
            ]
          },
          "metadata": {},
          "execution_count": 7
        }
      ]
    },
    {
      "cell_type": "code",
      "source": [
        "mean_absolute_error(actual_values, predicted_values)"
      ],
      "metadata": {
        "colab": {
          "base_uri": "https://localhost:8080/"
        },
        "id": "OmeHk3yc0yoQ",
        "outputId": "0481c761-09f5-4a8f-fcb2-997a29127cdb"
      },
      "execution_count": null,
      "outputs": [
        {
          "output_type": "execute_result",
          "data": {
            "text/plain": [
              "21.76702991495748"
            ]
          },
          "metadata": {},
          "execution_count": 8
        }
      ]
    },
    {
      "cell_type": "code",
      "source": [
        "metrics = [\"euclidean\", \"manhattan\", \"minkowski\"]\n",
        "\n",
        "mae_results = []\n",
        "for metric in metrics:\n",
        "    pipeline = make_pipeline(KNeighborsRegressor(n_neighbors=20, metric=metric))\n",
        "    pipeline.fit(X=X_train, y=y_train)\n",
        "    predicted_values = pipeline.predict(X_test)\n",
        "    mae = mean_absolute_error(actual_values, predicted_values)\n",
        "    mae_results.append(mae)\n",
        "    print(f\"{metric}, {mae}\")\n",
        "    \n",
        "best_metric_index = np.argmin(mae_results)\n",
        "best_metric = metrics[best_metric_index]\n",
        "best_mae = mae_results[best_metric_index]\n",
        "\n",
        "print(\"\\nBest metric:\", best_metric)\n",
        "print(\"Lowest MAE:\", best_mae)\n"
      ],
      "metadata": {
        "colab": {
          "base_uri": "https://localhost:8080/"
        },
        "id": "tLNWzIC00-Qc",
        "outputId": "206e7dfc-6cf9-4b41-8e3f-79a5d63221cf"
      },
      "execution_count": null,
      "outputs": [
        {
          "output_type": "stream",
          "name": "stdout",
          "text": [
            "euclidean, 20.765332166083045\n",
            "manhattan, 20.765332166083045\n",
            "minkowski, 20.765332166083045\n",
            "\n",
            "Best metric: euclidean\n",
            "Lowest MAE: 20.765332166083045\n"
          ]
        }
      ]
    },
    {
      "cell_type": "markdown",
      "source": [
        "They're the same because in OneHotEncoding(), all values are 0's and 1's so all distance metrics result in the same value. So what distance metrics we choose don't really matter, as all of the things are 0s and 1s we did not scale them."
      ],
      "metadata": {
        "id": "KJEp04YOgitT"
      }
    },
    {
      "cell_type": "markdown",
      "metadata": {
        "id": "vgaFvqueY8Dc"
      },
      "source": [
        "## Question 3\n",
        "\n",
        "Finally, repeat Question 1, using *all* the features."
      ]
    },
    {
      "cell_type": "code",
      "source": [
        "from sklearn.compose import make_column_transformer\n",
        "from sklearn.preprocessing import StandardScaler, OneHotEncoder\n",
        "\n",
        "ct = make_column_transformer(\n",
        "    (StandardScaler(), [\"abv\", \"srm\", \"originalGravity\"]),\n",
        "    (OneHotEncoder(), [\"available\", \"glass\"]),\n",
        "    remainder=\"drop\"  # all other columns in X will be dropped.\n",
        ")\n",
        "ct"
      ],
      "metadata": {
        "colab": {
          "base_uri": "https://localhost:8080/"
        },
        "id": "dj9jUtP1Pu2Q",
        "outputId": "5e612016-fe80-4588-e0b4-b2a2c09b8a17"
      },
      "execution_count": null,
      "outputs": [
        {
          "output_type": "execute_result",
          "data": {
            "text/plain": [
              "ColumnTransformer(transformers=[('standardscaler', StandardScaler(),\n",
              "                                 ['abv', 'srm', 'originalGravity']),\n",
              "                                ('onehotencoder', OneHotEncoder(),\n",
              "                                 ['available', 'glass'])])"
            ]
          },
          "metadata": {},
          "execution_count": 10
        }
      ]
    },
    {
      "cell_type": "code",
      "source": [
        "from sklearn.pipeline import make_pipeline\n",
        "from sklearn.neighbors import KNeighborsRegressor\n",
        "\n",
        "pipeline = make_pipeline(\n",
        "    ct,\n",
        "    KNeighborsRegressor(n_neighbors=20)\n",
        ")\n",
        "\n",
        "pipeline.fit(X=beer_train[[\"abv\", \"srm\", \"originalGravity\", \"available\", \"glass\"]], \n",
        "             y=beer_train[\"ibu\"])"
      ],
      "metadata": {
        "colab": {
          "base_uri": "https://localhost:8080/"
        },
        "id": "ZE8IUx9eQzxi",
        "outputId": "a1598d42-f8dc-4e9b-bdf7-c931389f142a"
      },
      "execution_count": null,
      "outputs": [
        {
          "output_type": "execute_result",
          "data": {
            "text/plain": [
              "Pipeline(steps=[('columntransformer',\n",
              "                 ColumnTransformer(transformers=[('standardscaler',\n",
              "                                                  StandardScaler(),\n",
              "                                                  ['abv', 'srm',\n",
              "                                                   'originalGravity']),\n",
              "                                                 ('onehotencoder',\n",
              "                                                  OneHotEncoder(),\n",
              "                                                  ['available', 'glass'])])),\n",
              "                ('kneighborsregressor', KNeighborsRegressor(n_neighbors=20))])"
            ]
          },
          "metadata": {},
          "execution_count": 11
        }
      ]
    },
    {
      "cell_type": "code",
      "source": [
        "X_test = beer_test[[\"abv\", \"srm\", \"originalGravity\", \"available\", \"glass\"]]\n",
        "X_train = beer_train[[\"abv\", \"srm\", \"originalGravity\", \"available\", \"glass\"]]\n",
        "\n",
        "predicted_values = pipeline.predict(X_test)\n",
        "\n",
        "predicted_values"
      ],
      "metadata": {
        "colab": {
          "base_uri": "https://localhost:8080/"
        },
        "id": "VZoknDZ4RYQb",
        "outputId": "48b389c7-4a29-45a1-e84b-eb266ff7ab9b"
      },
      "execution_count": null,
      "outputs": [
        {
          "output_type": "execute_result",
          "data": {
            "text/plain": [
              "array([31.568, 30.04 , 63.6  , ..., 36.33 , 31.115, 30.275])"
            ]
          },
          "metadata": {},
          "execution_count": 12
        }
      ]
    },
    {
      "cell_type": "code",
      "source": [
        "mean_absolute_error(actual_values, predicted_values)"
      ],
      "metadata": {
        "id": "EUmcMN6gR0Gc",
        "outputId": "7813de41-7e37-4316-956e-ab60fe17c8c1",
        "colab": {
          "base_uri": "https://localhost:8080/"
        }
      },
      "execution_count": null,
      "outputs": [
        {
          "output_type": "execute_result",
          "data": {
            "text/plain": [
              "15.191689994997498"
            ]
          },
          "metadata": {},
          "execution_count": 13
        }
      ]
    },
    {
      "cell_type": "code",
      "source": [
        "metrics = [\"euclidean\", \"manhattan\", \"minkowski\"]\n",
        "scalers = [StandardScaler, MinMaxScaler, Normalizer]\n",
        "\n",
        "for metric in metrics:\n",
        "  for scaler in scalers:\n",
        "    ct = make_column_transformer(\n",
        "      (scaler(), [\"abv\", \"srm\", \"originalGravity\"]),\n",
        "      (OneHotEncoder(), [\"available\", \"glass\"]),\n",
        "      remainder=\"drop\"  # all other columns in X will be dropped.\n",
        "    )\n",
        "  \n",
        "\n",
        "    pipeline = make_pipeline(ct, KNeighborsRegressor(n_neighbors=20, metric=metric))\n",
        "    pipeline.fit(X=beer_train[[\"abv\", \"srm\", \"originalGravity\", \"available\", \"glass\"]], \n",
        "             y=beer_train[\"ibu\"])\n",
        "    predicted_values = pipeline.predict(X_test)\n",
        "    mae = mean_absolute_error(actual_values, predicted_values)\n",
        "\n",
        "    print(f\"{metric}, {scaler}, {mae}\")\n",
        "    "
      ],
      "metadata": {
        "colab": {
          "base_uri": "https://localhost:8080/"
        },
        "id": "iZBlMQseSGos",
        "outputId": "fd12aea9-9f93-4696-eb6c-d164d82d97df"
      },
      "execution_count": null,
      "outputs": [
        {
          "output_type": "stream",
          "name": "stdout",
          "text": [
            "euclidean, <class 'sklearn.preprocessing._data.StandardScaler'>, 15.191689994997498\n",
            "euclidean, <class 'sklearn.preprocessing._data.MinMaxScaler'>, 15.729157653826912\n",
            "euclidean, <class 'sklearn.preprocessing._data.Normalizer'>, 17.577371160580288\n",
            "manhattan, <class 'sklearn.preprocessing._data.StandardScaler'>, 14.98328424212106\n",
            "manhattan, <class 'sklearn.preprocessing._data.MinMaxScaler'>, 15.629016658329165\n",
            "manhattan, <class 'sklearn.preprocessing._data.Normalizer'>, 17.757412631315656\n",
            "minkowski, <class 'sklearn.preprocessing._data.StandardScaler'>, 15.191689994997498\n",
            "minkowski, <class 'sklearn.preprocessing._data.MinMaxScaler'>, 15.729157653826912\n",
            "minkowski, <class 'sklearn.preprocessing._data.Normalizer'>, 17.577371160580288\n"
          ]
        }
      ]
    },
    {
      "cell_type": "markdown",
      "source": [
        "Again, manhattan distance with StandardScaler for quantitative variables gives lowest mae."
      ],
      "metadata": {
        "id": "r5lcnNG6gm4U"
      }
    },
    {
      "cell_type": "markdown",
      "metadata": {
        "id": "J_uFz0BaY8Ds"
      },
      "source": [
        "## Question 4\n",
        "\n",
        "Finally, let's determine the right value of $k$. Use the set of features, the distance metric, and the scaling method that you determined to be best (for $k=20$ nearest neighbors model) in Question 4. Fit $k$-nearest neighbor models for different values of $k$. Plot the training error and the estimated test error as functions of $k$, and determine the optimal value of $k$."
      ]
    },
    {
      "cell_type": "code",
      "source": [
        "num_neighbors = []\n",
        "mae_test = []\n",
        "\n",
        "ct = make_column_transformer(\n",
        "      (StandardScaler(), [\"abv\", \"srm\", \"originalGravity\"]),\n",
        "      (OneHotEncoder(), [\"available\", \"glass\"]),\n",
        "      remainder=\"drop\"  # all other columns in X will be dropped.\n",
        "    )\n",
        "\n",
        "for i in range(1, 30):\n",
        "  pipeline = make_pipeline(ct, KNeighborsRegressor(n_neighbors=i, metric=\"manhattan\"))\n",
        "  pipeline.fit(X=beer_train[[\"abv\", \"srm\", \"originalGravity\", \"available\", \"glass\"]], \n",
        "            y=beer_train[\"ibu\"])\n",
        "  predicted_values = pipeline.predict(X_test)\n",
        "  mae = mean_absolute_error(actual_values, predicted_values)\n",
        "  print(f\"Number neighbors: {i}, mae test: {mae}\\n\")\n",
        "  num_neighbors.append(i)\n",
        "  mae_test.append(mae)\n"
      ],
      "metadata": {
        "colab": {
          "base_uri": "https://localhost:8080/"
        },
        "id": "azlo3vmDScQK",
        "outputId": "617fb795-d210-425e-8f64-92380e74cf67"
      },
      "execution_count": null,
      "outputs": [
        {
          "output_type": "stream",
          "name": "stdout",
          "text": [
            "Number neighbors: 1, mae test: 17.82040220110055\n",
            "\n",
            "Number neighbors: 2, mae test: 15.926256378189093\n",
            "\n",
            "Number neighbors: 3, mae test: 15.26669084542271\n",
            "\n",
            "Number neighbors: 4, mae test: 15.061406703351675\n",
            "\n",
            "Number neighbors: 5, mae test: 14.787331165582792\n",
            "\n",
            "Number neighbors: 6, mae test: 14.736210688677671\n",
            "\n",
            "Number neighbors: 7, mae test: 14.839753876938468\n",
            "\n",
            "Number neighbors: 8, mae test: 14.844372311155578\n",
            "\n",
            "Number neighbors: 9, mae test: 14.823684175421045\n",
            "\n",
            "Number neighbors: 10, mae test: 14.795217408704351\n",
            "\n",
            "Number neighbors: 11, mae test: 14.846044658692982\n",
            "\n",
            "Number neighbors: 12, mae test: 14.877418709354677\n",
            "\n",
            "Number neighbors: 13, mae test: 14.946763766498634\n",
            "\n",
            "Number neighbors: 14, mae test: 14.955958336311012\n",
            "\n",
            "Number neighbors: 15, mae test: 14.93517992329498\n",
            "\n",
            "Number neighbors: 16, mae test: 14.95932037893947\n",
            "\n",
            "Number neighbors: 17, mae test: 14.965520760380189\n",
            "\n",
            "Number neighbors: 18, mae test: 14.978214357178588\n",
            "\n",
            "Number neighbors: 19, mae test: 14.988981148468971\n",
            "\n",
            "Number neighbors: 20, mae test: 14.98328424212106\n",
            "\n",
            "Number neighbors: 21, mae test: 15.039517473022226\n",
            "\n",
            "Number neighbors: 22, mae test: 15.03061944608668\n",
            "\n",
            "Number neighbors: 23, mae test: 15.033457772364445\n",
            "\n",
            "Number neighbors: 24, mae test: 15.053866391529096\n",
            "\n",
            "Number neighbors: 25, mae test: 15.035637538769384\n",
            "\n",
            "Number neighbors: 26, mae test: 15.044674548812868\n",
            "\n",
            "Number neighbors: 27, mae test: 15.064930242899226\n",
            "\n",
            "Number neighbors: 28, mae test: 15.06789646609019\n",
            "\n",
            "Number neighbors: 29, mae test: 15.066861189215297\n",
            "\n"
          ]
        }
      ]
    },
    {
      "cell_type": "code",
      "source": [
        "import matplotlib.pyplot as plt\n",
        "\n",
        "plt.plot(num_neighbors, mae_test)\n",
        "plt.title('Num neighbors vs mean absolute error (test data)')\n",
        "plt.xlabel('Num neighbors')\n",
        "plt.ylabel('MAE (test data)')\n",
        "plt.show()"
      ],
      "metadata": {
        "id": "RW5T8PoVfu3j",
        "colab": {
          "base_uri": "https://localhost:8080/",
          "height": 295
        },
        "outputId": "42524f5c-f74e-45c7-871f-4362c2e01d8e"
      },
      "execution_count": null,
      "outputs": [
        {
          "output_type": "display_data",
          "data": {
            "text/plain": [
              "<Figure size 432x288 with 1 Axes>"
            ],
            "image/png": "[encoded data removed]"
          },
          "metadata": {
            "needs_background": "light"
          }
        }
      ]
    },
    {
      "cell_type": "markdown",
      "source": [
        "Optimal value of k for test data is 6."
      ],
      "metadata": {
        "id": "Lv0uBNI_gqgP"
      }
    },
    {
      "cell_type": "code",
      "source": [
        "num_neighbors = []\n",
        "mae_train = []\n",
        "\n",
        "ct = make_column_transformer(\n",
        "      (StandardScaler(), [\"abv\", \"srm\", \"originalGravity\"]),\n",
        "      (OneHotEncoder(), [\"available\", \"glass\"]),\n",
        "      remainder=\"drop\"  # all other columns in X will be dropped.\n",
        "    )\n",
        "\n",
        "for i in range(1, 30):\n",
        "  pipeline = make_pipeline(ct, KNeighborsRegressor(n_neighbors=i, metric=\"manhattan\"))\n",
        "  pipeline.fit(X=beer_test[[\"abv\", \"srm\", \"originalGravity\", \"available\", \"glass\"]], \n",
        "            y=beer_test[\"ibu\"])\n",
        "  predicted_values = pipeline.predict(X_test)\n",
        "  mae = mean_absolute_error(actual_values, predicted_values)\n",
        "  print(f\"Number neighbors: {i}, mae test: {mae}\\n\")\n",
        "  num_neighbors.append(i)\n",
        "  mae_train.append(mae)\n"
      ],
      "metadata": {
        "colab": {
          "base_uri": "https://localhost:8080/"
        },
        "id": "sdAfJVFK2D6P",
        "outputId": "1ad1cf26-2295-4df2-b64d-8af63ae67778"
      },
      "execution_count": null,
      "outputs": [
        {
          "output_type": "stream",
          "name": "stdout",
          "text": [
            "Number neighbors: 1, mae test: 0.38289144572286143\n",
            "\n",
            "Number neighbors: 2, mae test: 9.673994497248623\n",
            "\n",
            "Number neighbors: 3, mae test: 11.190258462564616\n",
            "\n",
            "Number neighbors: 4, mae test: 12.01061780890445\n",
            "\n",
            "Number neighbors: 5, mae test: 12.582528264132067\n",
            "\n",
            "Number neighbors: 6, mae test: 12.918283308320825\n",
            "\n",
            "Number neighbors: 7, mae test: 13.219186736225256\n",
            "\n",
            "Number neighbors: 8, mae test: 13.46710167583792\n",
            "\n",
            "Number neighbors: 9, mae test: 13.675105330443\n",
            "\n",
            "Number neighbors: 10, mae test: 13.926659329664833\n",
            "\n",
            "Number neighbors: 11, mae test: 14.110156441857292\n",
            "\n",
            "Number neighbors: 12, mae test: 14.19374020343505\n",
            "\n",
            "Number neighbors: 13, mae test: 14.334463385538923\n",
            "\n",
            "Number neighbors: 14, mae test: 14.428431358536413\n",
            "\n",
            "Number neighbors: 15, mae test: 14.481710188427549\n",
            "\n",
            "Number neighbors: 16, mae test: 14.524924337168581\n",
            "\n",
            "Number neighbors: 17, mae test: 14.57307359562134\n",
            "\n",
            "Number neighbors: 18, mae test: 14.660350175087544\n",
            "\n",
            "Number neighbors: 19, mae test: 14.70807403701851\n",
            "\n",
            "Number neighbors: 20, mae test: 14.74726488244122\n",
            "\n",
            "Number neighbors: 21, mae test: 14.824711641535053\n",
            "\n",
            "Number neighbors: 22, mae test: 14.892006457774343\n",
            "\n",
            "Number neighbors: 23, mae test: 14.974792831198208\n",
            "\n",
            "Number neighbors: 24, mae test: 15.002373686843423\n",
            "\n",
            "Number neighbors: 25, mae test: 15.01112136068034\n",
            "\n",
            "Number neighbors: 26, mae test: 15.034566514026242\n",
            "\n",
            "Number neighbors: 27, mae test: 15.062990939914402\n",
            "\n",
            "Number neighbors: 28, mae test: 15.081827699564066\n",
            "\n",
            "Number neighbors: 29, mae test: 15.137805281951323\n",
            "\n"
          ]
        }
      ]
    },
    {
      "cell_type": "code",
      "source": [
        "plt.plot(num_neighbors, mae_train)\n",
        "plt.title('Num neighbors vs mean absolute error (training data)')\n",
        "plt.xlabel('Num neighbors')\n",
        "plt.ylabel('MAE (training data)')\n",
        "plt.show()"
      ],
      "metadata": {
        "colab": {
          "base_uri": "https://localhost:8080/",
          "height": 295
        },
        "id": "X4qzvJkTf77a",
        "outputId": "6e5fff98-5628-4994-fcf7-538c74a5b8d0"
      },
      "execution_count": null,
      "outputs": [
        {
          "output_type": "display_data",
          "data": {
            "text/plain": [
              "<Figure size 432x288 with 1 Axes>"
            ],
            "image/png": "[encoded data removed]"
          },
          "metadata": {
            "needs_background": "light"
          }
        }
      ]
    },
    {
      "cell_type": "markdown",
      "source": [
        "Optimal k value of training data is 1."
      ],
      "metadata": {
        "id": "_qrRlfizguiM"
      }
    },
    {
      "cell_type": "markdown",
      "metadata": {
        "id": "qhRFqKSDY8D2"
      },
      "source": [
        "## Submission Instructions\n",
        "\n",
        "- Copy this notebook to your own Drive, if you have not already.\n",
        "- Restart this notebook and run the cells from beginning to end. \n",
        "  - Go to Runtime > Restart and Run All.\n",
        "- Rename this notebook by clicking on \"DATA 301 Lab 4 - YOUR NAMES HERE\" at the very top of this page. Replace \"YOUR NAMES HERE\" with the first and last names of you (and your partners, for Phase 2).\n",
        "- Get the link to your notebook:\n",
        "  - Click on \"Share\" at the top-right. \n",
        "  - Change the settings to \"Anyone with the link can view\". \n",
        "  - Copy the sharing link into Canvas."
      ]
    }
  ]
}